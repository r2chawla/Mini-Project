{
  "nbformat": 4,
  "nbformat_minor": 0,
  "metadata": {
    "colab": {
      "name": "Copy of Image classification.ipynb",
      "provenance": [],
      "history_visible": true,
      "authorship_tag": "ABX9TyPpBPLVGDl165P+ctFglAsD",
      "include_colab_link": true
    },
    "kernelspec": {
      "name": "python3",
      "display_name": "Python 3"
    },
    "language_info": {
      "name": "python"
    }
  },
  "cells": [
    {
      "cell_type": "markdown",
      "metadata": {
        "id": "view-in-github",
        "colab_type": "text"
      },
      "source": [
        "<a href=\"https://colab.research.google.com/github/r2chawla/Mini-Project/blob/main/Copy_of_Image_classification.ipynb\" target=\"_parent\"><img src=\"https://colab.research.google.com/assets/colab-badge.svg\" alt=\"Open In Colab\"/></a>"
      ]
    },
    {
      "cell_type": "code",
      "metadata": {
        "colab": {
          "base_uri": "https://localhost:8080/"
        },
        "id": "tDizmEr4pFzT",
        "outputId": "07e00b34-8fb2-4d8e-f752-5e230c431419"
      },
      "source": [
        "!pip install ipython-autotime\n",
        "%load_ext autotime"
      ],
      "execution_count": null,
      "outputs": [
        {
          "output_type": "stream",
          "text": [
            "Collecting ipython-autotime\n",
            "  Downloading https://files.pythonhosted.org/packages/b4/c9/b413a24f759641bc27ef98c144b590023c8038dfb8a3f09e713e9dff12c1/ipython_autotime-0.3.1-py2.py3-none-any.whl\n",
            "Requirement already satisfied: ipython in /usr/local/lib/python3.7/dist-packages (from ipython-autotime) (5.5.0)\n",
            "Requirement already satisfied: simplegeneric>0.8 in /usr/local/lib/python3.7/dist-packages (from ipython->ipython-autotime) (0.8.1)\n",
            "Requirement already satisfied: decorator in /usr/local/lib/python3.7/dist-packages (from ipython->ipython-autotime) (4.4.2)\n",
            "Requirement already satisfied: pexpect; sys_platform != \"win32\" in /usr/local/lib/python3.7/dist-packages (from ipython->ipython-autotime) (4.8.0)\n",
            "Requirement already satisfied: setuptools>=18.5 in /usr/local/lib/python3.7/dist-packages (from ipython->ipython-autotime) (57.0.0)\n",
            "Requirement already satisfied: prompt-toolkit<2.0.0,>=1.0.4 in /usr/local/lib/python3.7/dist-packages (from ipython->ipython-autotime) (1.0.18)\n",
            "Requirement already satisfied: pygments in /usr/local/lib/python3.7/dist-packages (from ipython->ipython-autotime) (2.6.1)\n",
            "Requirement already satisfied: pickleshare in /usr/local/lib/python3.7/dist-packages (from ipython->ipython-autotime) (0.7.5)\n",
            "Requirement already satisfied: traitlets>=4.2 in /usr/local/lib/python3.7/dist-packages (from ipython->ipython-autotime) (5.0.5)\n",
            "Requirement already satisfied: ptyprocess>=0.5 in /usr/local/lib/python3.7/dist-packages (from pexpect; sys_platform != \"win32\"->ipython->ipython-autotime) (0.7.0)\n",
            "Requirement already satisfied: wcwidth in /usr/local/lib/python3.7/dist-packages (from prompt-toolkit<2.0.0,>=1.0.4->ipython->ipython-autotime) (0.2.5)\n",
            "Requirement already satisfied: six>=1.9.0 in /usr/local/lib/python3.7/dist-packages (from prompt-toolkit<2.0.0,>=1.0.4->ipython->ipython-autotime) (1.15.0)\n",
            "Requirement already satisfied: ipython-genutils in /usr/local/lib/python3.7/dist-packages (from traitlets>=4.2->ipython->ipython-autotime) (0.2.0)\n",
            "Installing collected packages: ipython-autotime\n",
            "Successfully installed ipython-autotime-0.3.1\n",
            "time: 198 µs (started: 2021-07-07 18:59:04 +00:00)\n"
          ],
          "name": "stdout"
        }
      ]
    },
    {
      "cell_type": "code",
      "metadata": {
        "colab": {
          "base_uri": "https://localhost:8080/"
        },
        "id": "hzdNDDn1pKnR",
        "outputId": "296e0d74-fa2b-48dd-9609-038b6801f34f"
      },
      "source": [
        "!pip install bing-image-downloader"
      ],
      "execution_count": null,
      "outputs": [
        {
          "output_type": "stream",
          "text": [
            "Collecting bing-image-downloader\n",
            "  Downloading https://files.pythonhosted.org/packages/c2/04/1872a689a30036aa0b81ac9fca124a7413cad71fdab714f727cf1a34b671/bing_image_downloader-1.1.1-py3-none-any.whl\n",
            "Installing collected packages: bing-image-downloader\n",
            "Successfully installed bing-image-downloader-1.1.1\n",
            "time: 3.34 s (started: 2021-07-07 18:59:07 +00:00)\n"
          ],
          "name": "stdout"
        }
      ]
    },
    {
      "cell_type": "code",
      "metadata": {
        "colab": {
          "base_uri": "https://localhost:8080/"
        },
        "id": "Xqdr2Y5kpPDd",
        "outputId": "6acff7ec-6811-4892-f266-95a10bce8beb"
      },
      "source": [
        "!mkdir images"
      ],
      "execution_count": null,
      "outputs": [
        {
          "output_type": "stream",
          "text": [
            "time: 120 ms (started: 2021-07-07 18:59:13 +00:00)\n"
          ],
          "name": "stdout"
        }
      ]
    },
    {
      "cell_type": "code",
      "metadata": {
        "colab": {
          "base_uri": "https://localhost:8080/"
        },
        "id": "pJIOfsg9pU6Q",
        "outputId": "6b9fd0d6-7825-44a5-a50e-cd34b454a1bb"
      },
      "source": [
        "from bing_image_downloader import downloader\n",
        "downloader.download(\"roses\",limit=30,output_dir='images',\n",
        "                    adult_filter_off=True)"
      ],
      "execution_count": null,
      "outputs": [
        {
          "output_type": "stream",
          "text": [
            "[%] Downloading Images to /content/images/roses\n",
            "\n",
            "\n",
            "[!!]Indexing page: 1\n",
            "\n",
            "[%] Indexed 30 Images on Page 1.\n",
            "\n",
            "===============================================\n",
            "\n",
            "[%] Downloading Image #1 from https://i.pinimg.com/originals/b6/a9/95/b6a995f047f1e4447b6d4678f085cd19.jpg\n",
            "[%] File Downloaded !\n",
            "\n",
            "[%] Downloading Image #2 from https://altmanplants.com/wp-content/uploads/True-Gratitude-1.jpg\n",
            "[%] File Downloaded !\n",
            "\n",
            "[%] Downloading Image #3 from https://www.terrafolia.ca/media/catalog/product/cache/2/image/650x/040ec09b1e35df139433887a97daa66f/t/r/true_romance_roses_dx_l.jpg\n",
            "[%] File Downloaded !\n",
            "\n",
            "[%] Downloading Image #4 from https://i.pinimg.com/originals/35/4a/ed/354aed9e9a761e2115f7597672b3cad2.jpg\n",
            "[%] File Downloaded !\n",
            "\n",
            "[%] Downloading Image #5 from https://arrayofgifts.com/wp-content/uploads/2018/11/True-Love-Hot-Pink-Roses-Houston-Tx-Florist-Valentine-Flowers-Delivery-scaled.jpg\n",
            "[Error]Invalid image, not saving https://arrayofgifts.com/wp-content/uploads/2018/11/True-Love-Hot-Pink-Roses-Houston-Tx-Florist-Valentine-Flowers-Delivery-scaled.jpg\n",
            "\n",
            "[!] Issue getting: https://arrayofgifts.com/wp-content/uploads/2018/11/True-Love-Hot-Pink-Roses-Houston-Tx-Florist-Valentine-Flowers-Delivery-scaled.jpg\n",
            "[!] Error:: Invalid image, not saving https://arrayofgifts.com/wp-content/uploads/2018/11/True-Love-Hot-Pink-Roses-Houston-Tx-Florist-Valentine-Flowers-Delivery-scaled.jpg\n",
            "\n",
            "[%] Downloading Image #5 from https://www.terrafolia.ca/media/catalog/product/cache/2/image/650x/040ec09b1e35df139433887a97daa66f/t/r/true_romance_roses_sd_l.jpg\n",
            "[%] File Downloaded !\n",
            "\n",
            "[%] Downloading Image #6 from https://altmanplants.com/wp-content/uploads/050318_PR-True-Bloom-1144x383.jpg\n",
            "[%] File Downloaded !\n",
            "\n",
            "[%] Downloading Image #7 from https://www.terrafolia.ca/media/catalog/product/cache/2/image/650x/040ec09b1e35df139433887a97daa66f/t/r/true_romance_roses_pm_l.jpg\n",
            "[%] File Downloaded !\n",
            "\n",
            "[%] Downloading Image #8 from https://www.florabundance.com/wp-content/uploads/2018/03/True-Love.jpg\n",
            "[%] File Downloaded !\n",
            "\n",
            "[%] Downloading Image #9 from https://asset.bloomnation.com/c_pad,d_vendor:global:catalog:product:image.png,f_auto,fl_preserve_transparency,q_auto/v1599308720/vendor/6617/catalog/product/2/0/20180705044125_file_5b3e4a3572d33.jpg\n",
            "[%] File Downloaded !\n",
            "\n",
            "[%] Downloading Image #10 from https://altmanplants.com/wp-content/uploads/True-Inspiration.jpg\n",
            "[%] File Downloaded !\n",
            "\n",
            "[%] Downloading Image #11 from https://georgeweigel.net/wp-content/uploads/2019/01/Rose-True-Bloom-True-Passion.jpg\n",
            "[%] File Downloaded !\n",
            "\n",
            "[%] Downloading Image #12 from http://www.natureserve.org/sites/default/files/kelly_marcum_flickr_pricklyrose.jpg\n",
            "[%] File Downloaded !\n",
            "\n",
            "[%] Downloading Image #13 from https://palatineroses.com/roses/grandiflora/dream-come-true.jpg?d=20200831190012\n",
            "[%] File Downloaded !\n",
            "\n",
            "[%] Downloading Image #14 from http://www.botanus.com/product_images/f/732/90016_DreamComeTrue2__01955_zoom.jpg\n",
            "[%] File Downloaded !\n",
            "\n",
            "[%] Downloading Image #15 from https://arrayofgifts.com/wp-content/uploads/2018/11/True-Love-Light-Pink-Hot-Pink-Roses-Houston-Pearland-Tx-Florist-Valentine-Flowers-Delivery-scaled.jpg\n",
            "[Error]Invalid image, not saving https://arrayofgifts.com/wp-content/uploads/2018/11/True-Love-Light-Pink-Hot-Pink-Roses-Houston-Pearland-Tx-Florist-Valentine-Flowers-Delivery-scaled.jpg\n",
            "\n",
            "[!] Issue getting: https://arrayofgifts.com/wp-content/uploads/2018/11/True-Love-Light-Pink-Hot-Pink-Roses-Houston-Pearland-Tx-Florist-Valentine-Flowers-Delivery-scaled.jpg\n",
            "[!] Error:: Invalid image, not saving https://arrayofgifts.com/wp-content/uploads/2018/11/True-Love-Light-Pink-Hot-Pink-Roses-Houston-Pearland-Tx-Florist-Valentine-Flowers-Delivery-scaled.jpg\n",
            "\n",
            "[%] Downloading Image #15 from http://www.greenhousemag.com/fileuploads/image/2018/05/true-bloom-roses-web.jpg?w=736&amp;h=414&amp;mode=crop\n",
            "[%] File Downloaded !\n",
            "\n",
            "[%] Downloading Image #16 from https://carithers.imgix.net/images/item/TrueRomanceRoseswithbackground-18103032009.png?w=950&amp;auto=format\n",
            "[%] File Downloaded !\n",
            "\n",
            "[%] Downloading Image #17 from https://i.pinimg.com/originals/2b/5a/1a/2b5a1aeaab2eaa521b965900ec41e5dd.jpg\n",
            "[%] File Downloaded !\n",
            "\n",
            "[%] Downloading Image #18 from https://content.propertyroom.com/listings/sellers/seller888888928/images/origimgs/888888928_23102014112135602.jpg\n",
            "[%] File Downloaded !\n",
            "\n",
            "[%] Downloading Image #19 from https://cdn.shopify.com/s/files/1/2520/3892/products/WeChat_Image_20190122221148_530x@2x.jpg?v=1556692226\n",
            "[%] File Downloaded !\n",
            "\n",
            "[%] Downloading Image #20 from https://www.kremp.com/media/catalog/product/cache/1/image/9df78eab33525d08d6e5fb8d27136e95/t/r/true-romance-roses-24.jpg\n",
            "[%] File Downloaded !\n",
            "\n",
            "[%] Downloading Image #21 from https://res.cloudinary.com/bloomnation/c_pad,d_vendor:global:catalog:product:image.png,f_auto,fl_preserve_transparency,q_auto/v1579502899/vendor/1519/catalog/product/2/0/20180128065459_file_5a6d73c35f1f2.jpg\n",
            "[%] File Downloaded !\n",
            "\n",
            "[%] Downloading Image #22 from https://st.hzcdn.com/fimgs/2c62c95d0d105f64_4086-w500-h375-b0-p0--.jpg\n",
            "[%] File Downloaded !\n",
            "\n",
            "[%] Downloading Image #23 from https://cdn.atwilltech.com/flowerdatabase/r/red-roses-594281557530c.425.jpg\n",
            "[%] File Downloaded !\n",
            "\n",
            "[%] Downloading Image #24 from https://www.williamsflowers.com/assets/inc/timthumb.php?src=https://f7e8d318f31623d72821-e86e8b8e4ccf82238b56398cba8fe354.ssl.cf2.rackcdn.com/2-Dozen-Mixed-Roses.jpg&amp;w=800&amp;h=800&amp;zc=2\n",
            "[Error]Invalid image, not saving https://www.williamsflowers.com/assets/inc/timthumb.php?src=https://f7e8d318f31623d72821-e86e8b8e4ccf82238b56398cba8fe354.ssl.cf2.rackcdn.com/2-Dozen-Mixed-Roses.jpg&amp;w=800&amp;h=800&amp;zc=2\n",
            "\n",
            "[!] Issue getting: https://www.williamsflowers.com/assets/inc/timthumb.php?src=https://f7e8d318f31623d72821-e86e8b8e4ccf82238b56398cba8fe354.ssl.cf2.rackcdn.com/2-Dozen-Mixed-Roses.jpg&amp;w=800&amp;h=800&amp;zc=2\n",
            "[!] Error:: Invalid image, not saving https://www.williamsflowers.com/assets/inc/timthumb.php?src=https://f7e8d318f31623d72821-e86e8b8e4ccf82238b56398cba8fe354.ssl.cf2.rackcdn.com/2-Dozen-Mixed-Roses.jpg&amp;w=800&amp;h=800&amp;zc=2\n",
            "\n",
            "[%] Downloading Image #24 from https://altmanplants.com/wp-content/uploads/True-Friendship-1024x686.jpg\n",
            "[%] File Downloaded !\n",
            "\n",
            "[%] Downloading Image #25 from https://www.clareflorist.co.uk/images/ProdImages/flowers/true-romance-new-lifestyle-2.jpg\n",
            "[%] File Downloaded !\n",
            "\n",
            "[%] Downloading Image #26 from https://i.pinimg.com/736x/29/e6/26/29e6266eefee5ce0a905b7384d6e9c8b--heirloom-roses-color-change.jpg\n",
            "[%] File Downloaded !\n",
            "\n",
            "[%] Downloading Image #27 from https://i.pinimg.com/originals/72/b6/35/72b6356158b067cff017c83a1a60cef1.jpg\n",
            "[%] File Downloaded !\n",
            "\n",
            "\n",
            "\n",
            "[!!]Indexing page: 2\n",
            "\n",
            "[%] Indexed 35 Images on Page 2.\n",
            "\n",
            "===============================================\n",
            "\n",
            "[%] Downloading Image #28 from https://i.pinimg.com/originals/b6/a9/95/b6a995f047f1e4447b6d4678f085cd19.jpg\n",
            "[%] File Downloaded !\n",
            "\n",
            "[%] Downloading Image #29 from https://altmanplants.com/wp-content/uploads/True-Gratitude-1.jpg\n",
            "[%] File Downloaded !\n",
            "\n",
            "[%] Downloading Image #30 from https://www.terrafolia.ca/media/catalog/product/cache/2/image/650x/040ec09b1e35df139433887a97daa66f/t/r/true_romance_roses_dx_l.jpg\n",
            "[%] File Downloaded !\n",
            "\n",
            "\n",
            "\n",
            "[%] Done. Downloaded 30 images.\n",
            "===============================================\n",
            "\n",
            "Please show your support here\n",
            "https://www.buymeacoffee.com/gurugaurav\n",
            "\n",
            "===============================================\n",
            "\n",
            "time: 38.5 s (started: 2021-07-07 18:59:18 +00:00)\n"
          ],
          "name": "stdout"
        }
      ]
    },
    {
      "cell_type": "code",
      "metadata": {
        "colab": {
          "base_uri": "https://localhost:8080/"
        },
        "id": "5OfvKDPVpa_X",
        "outputId": "be0d6c27-103c-4af6-a508-d55a9ff8bb3f"
      },
      "source": [
        "from bing_image_downloader import downloader\n",
        "downloader.download(\"tulips\",limit=30,output_dir='images',\n",
        "                    adult_filter_off=True)"
      ],
      "execution_count": null,
      "outputs": [
        {
          "output_type": "stream",
          "text": [
            "[%] Downloading Images to /content/images/tulips\n",
            "\n",
            "\n",
            "[!!]Indexing page: 1\n",
            "\n",
            "[%] Indexed 30 Images on Page 1.\n",
            "\n",
            "===============================================\n",
            "\n",
            "[%] Downloading Image #1 from https://i.pinimg.com/originals/fd/2e/43/fd2e43982baa939ece2ee81563d4ccc2.jpg\n",
            "[%] File Downloaded !\n",
            "\n",
            "[%] Downloading Image #2 from https://activerain.com/image_store/uploads/agents/pfeager/files/DSC_0159.JPG\n",
            "[%] File Downloaded !\n",
            "\n",
            "[%] Downloading Image #3 from https://www.hadeco.co.za/wp-content/uploads/2018/02/elbo09319.jpg\n",
            "[%] File Downloaded !\n",
            "\n",
            "[%] Downloading Image #4 from https://i.pinimg.com/originals/90/ba/6b/90ba6bfb2c0574d0fcaabe1f2f19c7d3.jpg\n",
            "[%] File Downloaded !\n",
            "\n",
            "[%] Downloading Image #5 from http://4.bp.blogspot.com/-XPOjixGBu50/U16JVx9wqVI/AAAAAAAARic/jxPa-_87qis/s1600/Tulips1.jpg\n",
            "[%] File Downloaded !\n",
            "\n",
            "[%] Downloading Image #6 from https://i.pinimg.com/originals/26/b8/6c/26b86c98eb0c196ee2a93756e9710d92.jpg\n",
            "[%] File Downloaded !\n",
            "\n",
            "[%] Downloading Image #7 from https://www.lubbockonline.com/storyimage/TX/20141001/LIFESTYLE/310019865/AR/0/AR-310019865.jpg\n",
            "[%] File Downloaded !\n",
            "\n",
            "[%] Downloading Image #8 from https://i.etsystatic.com/8474389/r/il/ca8553/2262324127/il_fullxfull.2262324127_mdld.jpg\n",
            "[%] File Downloaded !\n",
            "\n",
            "[%] Downloading Image #9 from https://www.toledoblade.com/image/2014/09/30/Wild-tulips-can-be-planted-and-forgotten-about.jpg\n",
            "[%] File Downloaded !\n",
            "\n",
            "[%] Downloading Image #10 from https://i.etsystatic.com/8474389/r/il/e5a250/2260115159/il_fullxfull.2260115159_gcf6.jpg\n",
            "[%] File Downloaded !\n",
            "\n",
            "[%] Downloading Image #11 from https://i.pinimg.com/736x/a9/4c/fa/a94cfa1c565fe5fc90bb3e23043efc3b.jpg\n",
            "[%] File Downloaded !\n",
            "\n",
            "[%] Downloading Image #12 from https://i.pinimg.com/originals/37/8c/04/378c04ba30b402514f39f36eb2b02799.jpg\n",
            "[%] File Downloaded !\n",
            "\n",
            "[%] Downloading Image #13 from https://i.etsystatic.com/8474389/r/il/f70f79/2214724796/il_fullxfull.2214724796_3els.jpg\n",
            "[%] File Downloaded !\n",
            "\n",
            "[%] Downloading Image #14 from https://s3-us-west-2.amazonaws.com/distiller-blog-prod/wp-content/uploads/2018/03/23143351/title8.jpg\n",
            "[%] File Downloaded !\n",
            "\n",
            "[%] Downloading Image #15 from https://i.pinimg.com/originals/48/6d/6d/486d6d39f86d5c5eb2bc348c98c5ce4e.jpg\n",
            "[%] File Downloaded !\n",
            "\n",
            "[%] Downloading Image #16 from https://i.pinimg.com/originals/78/4d/39/784d392d49c6c20429ecfa46c08f8b1f.jpg\n",
            "[%] File Downloaded !\n",
            "\n",
            "[%] Downloading Image #17 from https://ae01.alicdn.com/kf/HTB10oRWSFXXXXagXpXXq6xXFXXXa/Garden-Pots-Planters-100pcs-True-Tulip-seeds-Double-Tulip-Barbados-Flower-Bulbs-Tulips-seeds-Root-Tulipanes.jpg\n",
            "[%] File Downloaded !\n",
            "\n",
            "[%] Downloading Image #18 from https://i.pinimg.com/originals/f5/57/ee/f557ee5c35872881af43886751981324.jpg\n",
            "[%] File Downloaded !\n",
            "\n",
            "[%] Downloading Image #19 from https://tesco.scene7.com/is/image/tesco/652-4580_PI_1000011MN\n",
            "[%] File Downloaded !\n",
            "\n",
            "[%] Downloading Image #20 from https://cdn.shopify.com/s/files/1/0248/6668/products/BF294-11KS_e051c129-824d-4ddd-b2f1-54b5f6de0cf3_grande.jpg?v=1511363020\n",
            "[%] File Downloaded !\n",
            "\n",
            "[%] Downloading Image #21 from https://www.travelblissnow.com/wp-content/uploads/2017/05/tulip-cover3.jpg\n",
            "[%] File Downloaded !\n",
            "\n",
            "[%] Downloading Image #22 from https://i.pinimg.com/originals/55/c0/de/55c0deaa7112ed950f8fdbde54c849ec.jpg\n",
            "[%] File Downloaded !\n",
            "\n",
            "[%] Downloading Image #23 from https://www.chicoflorist.net/files/cache/8ac7a3b88ce6f6d4ed76d7ded92a256c_f3021.jpg\n",
            "[%] File Downloaded !\n",
            "\n",
            "[%] Downloading Image #24 from https://i.pinimg.com/originals/85/75/67/857567339f57289e112e9c189583ede8.jpg\n",
            "[%] File Downloaded !\n",
            "\n",
            "[%] Downloading Image #25 from https://i.pinimg.com/originals/ab/0d/30/ab0d30437e69722a4b4556c40ce715c2.png\n",
            "[%] File Downloaded !\n",
            "\n",
            "[%] Downloading Image #26 from https://www.flowershopping.com/assets/item/zoom/TFWEB403wb.jpg\n",
            "[%] File Downloaded !\n",
            "\n",
            "[%] Downloading Image #27 from https://i.pinimg.com/originals/33/12/6c/33126ced4bf08a030fda3ceb969c5471.jpg\n",
            "[%] File Downloaded !\n",
            "\n",
            "[%] Downloading Image #28 from https://i.pinimg.com/originals/92/ee/fb/92eefb964288d8c3e3408aeff8b62109.jpg\n",
            "[%] File Downloaded !\n",
            "\n",
            "[%] Downloading Image #29 from https://3.bp.blogspot.com/-I7e7aWu0EyU/T18MTSjjMFI/AAAAAAAADBE/GyGWQUnK4XM/s1600/2+spring-flowers-yellow-tulips_all-hit-movies.blogspot.in.jpg\n",
            "[%] File Downloaded !\n",
            "\n",
            "[%] Downloading Image #30 from https://ae01.alicdn.com/kf/HTB1VNq7QVXXXXauXpXXq6xXFXXXO/True-Tulip-Bonsai-Flower-Bulbs-Beautiful-Tulips-Rizomas-Bulbos-Aroma-Potted-Plant-2-Bonsai.jpg\n",
            "[%] File Downloaded !\n",
            "\n",
            "\n",
            "\n",
            "[%] Done. Downloaded 30 images.\n",
            "===============================================\n",
            "\n",
            "Please show your support here\n",
            "https://www.buymeacoffee.com/gurugaurav\n",
            "\n",
            "===============================================\n",
            "\n",
            "time: 27.8 s (started: 2021-07-07 19:00:00 +00:00)\n"
          ],
          "name": "stdout"
        }
      ]
    },
    {
      "cell_type": "code",
      "metadata": {
        "colab": {
          "base_uri": "https://localhost:8080/"
        },
        "id": "Cbx44VqOpij7",
        "outputId": "75c4f68d-25fe-42fb-de97-404b2824ca1b"
      },
      "source": [
        "from bing_image_downloader import downloader\n",
        "downloader.download(\"sunflowers\",limit=30,output_dir='images',\n",
        "                    adult_filter_off=True)"
      ],
      "execution_count": null,
      "outputs": [
        {
          "output_type": "stream",
          "text": [
            "[%] Downloading Images to /content/images/sunflowers\n",
            "\n",
            "\n",
            "[!!]Indexing page: 1\n",
            "\n",
            "[%] Indexed 30 Images on Page 1.\n",
            "\n",
            "===============================================\n",
            "\n",
            "[%] Downloading Image #1 from https://upload.wikimedia.org/wikipedia/commons/thumb/4/40/Sunflower_sky_backdrop.jpg/1200px-Sunflower_sky_backdrop.jpg\n",
            "[Error]Invalid image, not saving https://upload.wikimedia.org/wikipedia/commons/thumb/4/40/Sunflower_sky_backdrop.jpg/1200px-Sunflower_sky_backdrop.jpg\n",
            "\n",
            "[!] Issue getting: https://upload.wikimedia.org/wikipedia/commons/thumb/4/40/Sunflower_sky_backdrop.jpg/1200px-Sunflower_sky_backdrop.jpg\n",
            "[!] Error:: Invalid image, not saving https://upload.wikimedia.org/wikipedia/commons/thumb/4/40/Sunflower_sky_backdrop.jpg/1200px-Sunflower_sky_backdrop.jpg\n",
            "\n",
            "[%] Downloading Image #1 from https://www.myweekly.co.uk/wp-content/uploads/sites/9/2019/04/iStock-912760592-sunflower-x-1024x683.jpg\n",
            "[%] File Downloaded !\n",
            "\n",
            "[%] Downloading Image #2 from https://upload.wikimedia.org/wikipedia/commons/thumb/8/84/Sunflowers_IMG_4309.jpg/1200px-Sunflowers_IMG_4309.jpg\n",
            "[%] File Downloaded !\n",
            "\n",
            "[%] Downloading Image #3 from http://4.bp.blogspot.com/-e27Hnkq8tCE/TzbAJeCx8PI/AAAAAAAAAOs/w-yK9yrXAns/s1600/DSC_0760.JPG\n",
            "[%] File Downloaded !\n",
            "\n",
            "[%] Downloading Image #4 from https://i.pinimg.com/originals/b3/09/34/b309343c09b065738b51b15ca243e20b.jpg\n",
            "[%] File Downloaded !\n",
            "\n",
            "[%] Downloading Image #5 from https://i0.wp.com/howlifestyles.com/wp-content/uploads/2020/06/Sunflowers_20200510.jpg?fit=800%2C1000&amp;ssl=1\n",
            "[%] File Downloaded !\n",
            "\n",
            "[%] Downloading Image #6 from https://bonchicstyle.com/wp-content/uploads/2018/09/6374375b-23bb-4f48-a923-1563f790e09b.jpeg\n",
            "[%] File Downloaded !\n",
            "\n",
            "[%] Downloading Image #7 from https://4.bp.blogspot.com/-T8TjVd4KGek/UAs6sFxyDaI/AAAAAAAADLk/6Fb6-QVgeiA/s1600/IMG_0833.jpg\n",
            "[%] File Downloaded !\n",
            "\n",
            "[%] Downloading Image #8 from https://qph.fs.quoracdn.net/main-qimg-964cfdcaad8daf3a1fb985cab267e2f9\n",
            "[%] File Downloaded !\n",
            "\n",
            "[%] Downloading Image #9 from https://api.time.com/wp-content/uploads/2016/08/sunflowers.jpg?quality=85&amp;w=1200&amp;h=628&amp;crop=1\n",
            "[%] File Downloaded !\n",
            "\n",
            "[%] Downloading Image #10 from https://i.pinimg.com/originals/e8/99/6c/e8996c67cd36fe342ff138225f4a4857.jpg\n",
            "[%] File Downloaded !\n",
            "\n",
            "[%] Downloading Image #11 from https://s-i.huffpost.com/gen/999933/images/o-SEEDS-facebook.jpg\n",
            "[%] File Downloaded !\n",
            "\n",
            "[%] Downloading Image #12 from https://www.croatia-times.com/wp-content/uploads/2017/07/Sunflowers-of-Slavonia-Emica-Elvedji-HANZA-MEDIA-10.jpg\n",
            "[%] File Downloaded !\n",
            "\n",
            "[%] Downloading Image #13 from https://i.pinimg.com/736x/af/61/4c/af614c9424a33e84698676b7426a5b14--true-blood-sunflowers.jpg\n",
            "[%] File Downloaded !\n",
            "\n",
            "[%] Downloading Image #14 from https://i.pinimg.com/originals/ae/dc/b4/aedcb4cfe5cc804bd93fa7397285ab69.jpg\n",
            "[%] File Downloaded !\n",
            "\n",
            "[%] Downloading Image #15 from https://www.premierseedsdirect.com/wp-content/uploads/2017/02/41580186-1.jpg\n",
            "[%] File Downloaded !\n",
            "\n",
            "[%] Downloading Image #16 from https://i.pinimg.com/originals/b6/b1/12/b6b11255781c6c4ce9659171e0731125.jpg\n",
            "[%] File Downloaded !\n",
            "\n",
            "[%] Downloading Image #17 from https://i.pinimg.com/originals/b8/68/3f/b8683face1604d0cfb1967b73263a758.jpg\n",
            "[%] File Downloaded !\n",
            "\n",
            "[%] Downloading Image #18 from http://www.lovethegarden.com/sites/default/files/content/articles/UK_sunflower-head-closeup.jpg\n",
            "[%] File Downloaded !\n",
            "\n",
            "[%] Downloading Image #19 from https://live.staticflickr.com/3843/15255811285_c76e5e2381_b.jpg\n",
            "[%] File Downloaded !\n",
            "\n",
            "[%] Downloading Image #20 from https://i.pinimg.com/736x/0e/d5/61/0ed5618c010a8bfaf11e6f66cdab949d.jpg\n",
            "[%] File Downloaded !\n",
            "\n",
            "[%] Downloading Image #21 from https://i.pinimg.com/originals/45/dc/98/45dc98b4b4a73b0e2c4cab13f22da8f7.jpg\n",
            "[%] File Downloaded !\n",
            "\n",
            "[%] Downloading Image #22 from https://upload.wikimedia.org/wikipedia/commons/a/a7/Sunflowers_Sonnenblumen.jpg\n",
            "[%] File Downloaded !\n",
            "\n",
            "[%] Downloading Image #23 from https://thisismygarden.com/wp-content/uploads/2021/03/sunflower-in-pots-1.jpg\n",
            "[%] File Downloaded !\n",
            "\n",
            "[%] Downloading Image #24 from https://growplants.info/wp-content/uploads/2020/12/growing-sunflowers-indoors.jpg\n",
            "[%] File Downloaded !\n",
            "\n",
            "[%] Downloading Image #25 from https://i.pinimg.com/originals/82/45/10/824510167029aee1aa66bff31e49c9e9.jpg\n",
            "[%] File Downloaded !\n",
            "\n",
            "[%] Downloading Image #26 from https://www.readersdigest.com.au/wp-content/uploads/2019/05/grow-sunflowers_0.jpg\n",
            "[%] File Downloaded !\n",
            "\n",
            "[%] Downloading Image #27 from https://botany.one/wp-content/uploads/2016/11/Sunflower.jpg\n",
            "[%] File Downloaded !\n",
            "\n",
            "[%] Downloading Image #28 from https://i.pinimg.com/originals/6d/c5/e9/6dc5e91f051e2924b5bb8610ebd0812d.jpg\n",
            "[%] File Downloaded !\n",
            "\n",
            "[%] Downloading Image #29 from https://i.pinimg.com/originals/c4/fd/53/c4fd53214809a6a060e4f52044782086.jpg\n",
            "[%] File Downloaded !\n",
            "\n",
            "\n",
            "\n",
            "[!!]Indexing page: 2\n",
            "\n",
            "[%] Indexed 35 Images on Page 2.\n",
            "\n",
            "===============================================\n",
            "\n",
            "[%] Downloading Image #30 from https://upload.wikimedia.org/wikipedia/commons/thumb/4/40/Sunflower_sky_backdrop.jpg/1200px-Sunflower_sky_backdrop.jpg\n",
            "[Error]Invalid image, not saving https://upload.wikimedia.org/wikipedia/commons/thumb/4/40/Sunflower_sky_backdrop.jpg/1200px-Sunflower_sky_backdrop.jpg\n",
            "\n",
            "[!] Issue getting: https://upload.wikimedia.org/wikipedia/commons/thumb/4/40/Sunflower_sky_backdrop.jpg/1200px-Sunflower_sky_backdrop.jpg\n",
            "[!] Error:: Invalid image, not saving https://upload.wikimedia.org/wikipedia/commons/thumb/4/40/Sunflower_sky_backdrop.jpg/1200px-Sunflower_sky_backdrop.jpg\n",
            "\n",
            "[%] Downloading Image #30 from https://www.myweekly.co.uk/wp-content/uploads/sites/9/2019/04/iStock-912760592-sunflower-x-1024x683.jpg\n",
            "[%] File Downloaded !\n",
            "\n",
            "\n",
            "\n",
            "[%] Done. Downloaded 30 images.\n",
            "===============================================\n",
            "\n",
            "Please show your support here\n",
            "https://www.buymeacoffee.com/gurugaurav\n",
            "\n",
            "===============================================\n",
            "\n",
            "time: 38.3 s (started: 2021-07-07 19:00:44 +00:00)\n"
          ],
          "name": "stdout"
        }
      ]
    },
    {
      "cell_type": "code",
      "metadata": {
        "colab": {
          "base_uri": "https://localhost:8080/"
        },
        "id": "c0zHtvRhpuZL",
        "outputId": "e1454e9e-afef-4c22-aaad-482288904323"
      },
      "source": [
        "# Preprocessing\n",
        "\n",
        "import os\n",
        "import matplotlib.pyplot as plt\n",
        "import numpy as np\n",
        "from skimage.io import imread \n",
        "from skimage.transform import resize \n",
        "\n",
        "target = []\n",
        "images = []\n",
        "flat_data = []\n",
        "\n",
        "DATADIR = '/content/images'\n",
        "CATEGORIES = ['roses','tulips','sunflowers']\n",
        "\n",
        "for category in CATEGORIES: \n",
        "  class_num = CATEGORIES.index(category) #Label Encoding the Values\n",
        "  path = os.path.join(DATADIR,category) #Create path to use all the images\n",
        "  for img in os.listdir(path):\n",
        "    img_array = imread(os.path.join(path,img))\n",
        "   #print(img_array.shape)\n",
        "   #plt.imshow(img_array)\n",
        "    img_resized = resize(img_array,(150,150,3)) #Normalizes the value from 0 to 1\n",
        "    flat_data.append(img_resized.flatten())\n",
        "    images.append(img_resized)\n",
        "    target.append(class_num)\n",
        "   \n",
        "flat_data = np.array(flat_data)\n",
        "target = np.array(target)\n",
        "images = np.array(images)\n"
      ],
      "execution_count": null,
      "outputs": [
        {
          "output_type": "stream",
          "text": [
            "time: 46.3 s (started: 2021-07-07 19:01:25 +00:00)\n"
          ],
          "name": "stdout"
        }
      ]
    },
    {
      "cell_type": "code",
      "metadata": {
        "colab": {
          "base_uri": "https://localhost:8080/"
        },
        "id": "2uuU_HgSqHna",
        "outputId": "99acd8fd-0dbd-45ec-f07b-a9c4cf65d2c5"
      },
      "source": [
        "len(flat_data[0])"
      ],
      "execution_count": null,
      "outputs": [
        {
          "output_type": "execute_result",
          "data": {
            "text/plain": [
              "67500"
            ]
          },
          "metadata": {
            "tags": []
          },
          "execution_count": 11
        },
        {
          "output_type": "stream",
          "text": [
            "time: 11.4 ms (started: 2021-07-07 19:02:19 +00:00)\n"
          ],
          "name": "stdout"
        }
      ]
    },
    {
      "cell_type": "code",
      "metadata": {
        "colab": {
          "base_uri": "https://localhost:8080/"
        },
        "id": "W2Mhcc6zq0qB",
        "outputId": "0afc503d-d148-43dd-cb9e-f861c9367fad"
      },
      "source": [
        "150*150*3"
      ],
      "execution_count": null,
      "outputs": [
        {
          "output_type": "execute_result",
          "data": {
            "text/plain": [
              "67500"
            ]
          },
          "metadata": {
            "tags": []
          },
          "execution_count": 12
        },
        {
          "output_type": "stream",
          "text": [
            "time: 5.31 ms (started: 2021-07-07 19:02:21 +00:00)\n"
          ],
          "name": "stdout"
        }
      ]
    },
    {
      "cell_type": "code",
      "metadata": {
        "colab": {
          "base_uri": "https://localhost:8080/"
        },
        "id": "C1LCi9p7q3jx",
        "outputId": "c13862e8-6f8c-49c6-d4d6-48896665bf13"
      },
      "source": [
        "target"
      ],
      "execution_count": null,
      "outputs": [
        {
          "output_type": "execute_result",
          "data": {
            "text/plain": [
              "array([0, 0, 0, 0, 0, 0, 0, 0, 0, 0, 0, 0, 0, 0, 0, 0, 0, 0, 0, 0, 0, 0,\n",
              "       0, 0, 0, 0, 0, 0, 0, 0, 1, 1, 1, 1, 1, 1, 1, 1, 1, 1, 1, 1, 1, 1,\n",
              "       1, 1, 1, 1, 1, 1, 1, 1, 1, 1, 1, 1, 1, 1, 1, 1, 2, 2, 2, 2, 2, 2,\n",
              "       2, 2, 2, 2, 2, 2, 2, 2, 2, 2, 2, 2, 2, 2, 2, 2, 2, 2, 2, 2, 2, 2,\n",
              "       2, 2])"
            ]
          },
          "metadata": {
            "tags": []
          },
          "execution_count": 13
        },
        {
          "output_type": "stream",
          "text": [
            "time: 7.07 ms (started: 2021-07-07 19:02:23 +00:00)\n"
          ],
          "name": "stdout"
        }
      ]
    },
    {
      "cell_type": "code",
      "metadata": {
        "colab": {
          "base_uri": "https://localhost:8080/",
          "height": 299
        },
        "id": "AxQUWeuUq7GQ",
        "outputId": "c93ed643-d6a7-413c-e482-459a1cf02b9f"
      },
      "source": [
        "unique,count = np.unique(target,return_counts=True)\n",
        "plt.bar(CATEGORIES,count)"
      ],
      "execution_count": null,
      "outputs": [
        {
          "output_type": "execute_result",
          "data": {
            "text/plain": [
              "<BarContainer object of 3 artists>"
            ]
          },
          "metadata": {
            "tags": []
          },
          "execution_count": 14
        },
        {
          "output_type": "display_data",
          "data": {
            "image/png": "[encoded data removed]",
            "text/plain": [
              "<Figure size 432x288 with 1 Axes>"
            ]
          },
          "metadata": {
            "tags": [],
            "needs_background": "light"
          }
        },
        {
          "output_type": "stream",
          "text": [
            "time: 169 ms (started: 2021-07-07 19:02:26 +00:00)\n"
          ],
          "name": "stdout"
        }
      ]
    },
    {
      "cell_type": "code",
      "metadata": {
        "colab": {
          "base_uri": "https://localhost:8080/"
        },
        "id": "dE9tot3Uq-xC",
        "outputId": "ad1e45f3-2765-41f6-96f5-5a27a252d43b"
      },
      "source": [
        "#Split data into training and testing\n",
        "from sklearn.model_selection import train_test_split\n",
        "x_train,x_test,y_train,y_test = train_test_split(flat_data,target,\n",
        "                                                 test_size=0.3,random_state=109)"
      ],
      "execution_count": null,
      "outputs": [
        {
          "output_type": "stream",
          "text": [
            "time: 16.7 ms (started: 2021-07-07 19:05:32 +00:00)\n"
          ],
          "name": "stdout"
        }
      ]
    },
    {
      "cell_type": "code",
      "metadata": {
        "colab": {
          "base_uri": "https://localhost:8080/"
        },
        "id": "XqSmlnp5rD-O",
        "outputId": "cbb3bab4-c841-41f0-ccf7-92beb6aa23cc"
      },
      "source": [
        "from sklearn.model_selection import GridSearchCV\n",
        "from sklearn import svm\n",
        "param_grid = [\n",
        "              {'C':[1,10,100,1000],'kernel':['linear']},\n",
        "              {'C':[1,10,100,1000],'gamma':[0.001,0.0001],'kernel':['rbf']},\n",
        "             ]\n",
        "svc = svm.SVC(probability=True)\n",
        "clf = GridSearchCV(svc,param_grid)\n",
        "clf.fit(x_train,y_train)"
      ],
      "execution_count": null,
      "outputs": [
        {
          "output_type": "execute_result",
          "data": {
            "text/plain": [
              "GridSearchCV(cv=None, error_score=nan,\n",
              "             estimator=SVC(C=1.0, break_ties=False, cache_size=200,\n",
              "                           class_weight=None, coef0=0.0,\n",
              "                           decision_function_shape='ovr', degree=3,\n",
              "                           gamma='scale', kernel='rbf', max_iter=-1,\n",
              "                           probability=True, random_state=None, shrinking=True,\n",
              "                           tol=0.001, verbose=False),\n",
              "             iid='deprecated', n_jobs=None,\n",
              "             param_grid=[{'C': [1, 10, 100, 1000], 'kernel': ['linear']},\n",
              "                         {'C': [1, 10, 100, 1000], 'gamma': [0.001, 0.0001],\n",
              "                          'kernel': ['rbf']}],\n",
              "             pre_dispatch='2*n_jobs', refit=True, return_train_score=False,\n",
              "             scoring=None, verbose=0)"
            ]
          },
          "metadata": {
            "tags": []
          },
          "execution_count": 23
        },
        {
          "output_type": "stream",
          "text": [
            "time: 2min 2s (started: 2021-07-07 19:11:07 +00:00)\n"
          ],
          "name": "stdout"
        }
      ]
    },
    {
      "cell_type": "code",
      "metadata": {
        "colab": {
          "base_uri": "https://localhost:8080/"
        },
        "id": "BhJ3fDo-rlpd",
        "outputId": "3ac9ebdb-a987-457d-dcff-ecd518fd9c78"
      },
      "source": [
        "y_pred = clf.predict(x_test)\n",
        "y_pred"
      ],
      "execution_count": null,
      "outputs": [
        {
          "output_type": "execute_result",
          "data": {
            "text/plain": [
              "array([2, 0, 0, 2, 2, 0, 1, 1, 2, 0, 2, 0, 1, 2, 2, 2, 2, 0, 0, 2, 2, 1,\n",
              "       2, 0, 0, 0, 1])"
            ]
          },
          "metadata": {
            "tags": []
          },
          "execution_count": 24
        },
        {
          "output_type": "stream",
          "text": [
            "time: 179 ms (started: 2021-07-07 19:18:06 +00:00)\n"
          ],
          "name": "stdout"
        }
      ]
    },
    {
      "cell_type": "code",
      "metadata": {
        "colab": {
          "base_uri": "https://localhost:8080/"
        },
        "id": "qxmiqskEsDVf",
        "outputId": "1cdf8f8b-2127-4ff7-9651-d57fe9349bec"
      },
      "source": [
        "y_test "
      ],
      "execution_count": null,
      "outputs": [
        {
          "output_type": "execute_result",
          "data": {
            "text/plain": [
              "array([1, 0, 1, 2, 2, 1, 0, 1, 1, 0, 1, 0, 1, 2, 2, 1, 2, 1, 0, 1, 2, 2,\n",
              "       2, 0, 0, 0, 1])"
            ]
          },
          "metadata": {
            "tags": []
          },
          "execution_count": 25
        },
        {
          "output_type": "stream",
          "text": [
            "time: 6.75 ms (started: 2021-07-07 19:18:11 +00:00)\n"
          ],
          "name": "stdout"
        }
      ]
    },
    {
      "cell_type": "code",
      "metadata": {
        "colab": {
          "base_uri": "https://localhost:8080/"
        },
        "id": "DGgicufCshb4",
        "outputId": "3564c068-13bb-4399-d12d-f8b24ce180a6"
      },
      "source": [
        "from sklearn.metrics import accuracy_score,confusion_matrix"
      ],
      "execution_count": null,
      "outputs": [
        {
          "output_type": "stream",
          "text": [
            "time: 882 µs (started: 2021-07-07 19:18:14 +00:00)\n"
          ],
          "name": "stdout"
        }
      ]
    },
    {
      "cell_type": "code",
      "metadata": {
        "colab": {
          "base_uri": "https://localhost:8080/"
        },
        "id": "m1czoGouskWw",
        "outputId": "78d3a648-2d56-448d-cd98-6a5e6221da39"
      },
      "source": [
        "accuracy_score(y_pred,y_test)"
      ],
      "execution_count": null,
      "outputs": [
        {
          "output_type": "execute_result",
          "data": {
            "text/plain": [
              "0.6296296296296297"
            ]
          },
          "metadata": {
            "tags": []
          },
          "execution_count": 27
        },
        {
          "output_type": "stream",
          "text": [
            "time: 4.1 ms (started: 2021-07-07 19:18:17 +00:00)\n"
          ],
          "name": "stdout"
        }
      ]
    },
    {
      "cell_type": "code",
      "metadata": {
        "colab": {
          "base_uri": "https://localhost:8080/"
        },
        "id": "AHEG9n_AspK5",
        "outputId": "b8f250ff-d926-44b7-b045-7de35b9c3546"
      },
      "source": [
        "confusion_matrix(y_pred,y_test)"
      ],
      "execution_count": null,
      "outputs": [
        {
          "output_type": "execute_result",
          "data": {
            "text/plain": [
              "array([[7, 3, 0],\n",
              "       [1, 3, 1],\n",
              "       [0, 5, 7]])"
            ]
          },
          "metadata": {
            "tags": []
          },
          "execution_count": 28
        },
        {
          "output_type": "stream",
          "text": [
            "time: 4.89 ms (started: 2021-07-07 19:18:19 +00:00)\n"
          ],
          "name": "stdout"
        }
      ]
    },
    {
      "cell_type": "code",
      "metadata": {
        "colab": {
          "base_uri": "https://localhost:8080/",
          "height": 120
        },
        "id": "_oL9RVFwssnn",
        "outputId": "bd511464-8cc3-4d67-c707-5381b3769dca"
      },
      "source": [
        "from sklearn.metrics import classification_report\n",
        "classification_report(y_pred, y_test)"
      ],
      "execution_count": null,
      "outputs": [
        {
          "output_type": "execute_result",
          "data": {
            "application/vnd.google.colaboratory.intrinsic+json": {
              "type": "string"
            },
            "text/plain": [
              "'              precision    recall  f1-score   support\\n\\n           0       0.88      0.70      0.78        10\\n           1       0.27      0.60      0.37         5\\n           2       0.88      0.58      0.70        12\\n\\n    accuracy                           0.63        27\\n   macro avg       0.67      0.63      0.62        27\\nweighted avg       0.76      0.63      0.67        27\\n'"
            ]
          },
          "metadata": {
            "tags": []
          },
          "execution_count": 29
        },
        {
          "output_type": "stream",
          "text": [
            "time: 16 ms (started: 2021-07-07 19:18:21 +00:00)\n"
          ],
          "name": "stdout"
        }
      ]
    },
    {
      "cell_type": "code",
      "metadata": {
        "colab": {
          "base_uri": "https://localhost:8080/"
        },
        "id": "U6nXNCvsswJk",
        "outputId": "cea2897a-be16-4662-b37c-0bb063e780d9"
      },
      "source": [
        "#Save the model using Pickle library \n",
        "import pickle\n",
        "pickle.dump(clf,open('img_model.p','wb'))"
      ],
      "execution_count": null,
      "outputs": [
        {
          "output_type": "stream",
          "text": [
            "time: 81.1 ms (started: 2021-07-07 19:18:24 +00:00)\n"
          ],
          "name": "stdout"
        }
      ]
    },
    {
      "cell_type": "code",
      "metadata": {
        "colab": {
          "base_uri": "https://localhost:8080/"
        },
        "id": "PzDSJeBkszQ6",
        "outputId": "15abff27-f85f-47da-aa03-13f759db699f"
      },
      "source": [
        "model = pickle.load(open('img_model.p','rb'))"
      ],
      "execution_count": null,
      "outputs": [
        {
          "output_type": "stream",
          "text": [
            "time: 22 ms (started: 2021-07-07 19:18:28 +00:00)\n"
          ],
          "name": "stdout"
        }
      ]
    },
    {
      "cell_type": "code",
      "metadata": {
        "id": "6ddIVPDYVYVJ",
        "colab": {
          "base_uri": "https://localhost:8080/"
        },
        "outputId": "8b8c07d0-731e-411f-ff18-9d5f92d9b0dd"
      },
      "source": [
        "from bing_image_downloader import downloader\n",
        "downloader.download(\"sunflowers\",limit=1,output_dir='testimages',\n",
        "                    adult_filter_off=True)"
      ],
      "execution_count": null,
      "outputs": [
        {
          "output_type": "stream",
          "text": [
            "[%] Downloading Images to /content/testimages/sunflowers\n",
            "\n",
            "\n",
            "[!!]Indexing page: 1\n",
            "\n",
            "[%] Indexed 1 Images on Page 1.\n",
            "\n",
            "===============================================\n",
            "\n",
            "[%] Downloading Image #1 from https://upload.wikimedia.org/wikipedia/commons/thumb/4/40/Sunflower_sky_backdrop.jpg/1200px-Sunflower_sky_backdrop.jpg\n",
            "[Error]Invalid image, not saving https://upload.wikimedia.org/wikipedia/commons/thumb/4/40/Sunflower_sky_backdrop.jpg/1200px-Sunflower_sky_backdrop.jpg\n",
            "\n",
            "[!] Issue getting: https://upload.wikimedia.org/wikipedia/commons/thumb/4/40/Sunflower_sky_backdrop.jpg/1200px-Sunflower_sky_backdrop.jpg\n",
            "[!] Error:: Invalid image, not saving https://upload.wikimedia.org/wikipedia/commons/thumb/4/40/Sunflower_sky_backdrop.jpg/1200px-Sunflower_sky_backdrop.jpg\n",
            "\n",
            "\n",
            "\n",
            "[!!]Indexing page: 2\n",
            "\n",
            "[%] Indexed 35 Images on Page 2.\n",
            "\n",
            "===============================================\n",
            "\n",
            "[%] Downloading Image #1 from https://upload.wikimedia.org/wikipedia/commons/thumb/4/40/Sunflower_sky_backdrop.jpg/1200px-Sunflower_sky_backdrop.jpg\n",
            "[Error]Invalid image, not saving https://upload.wikimedia.org/wikipedia/commons/thumb/4/40/Sunflower_sky_backdrop.jpg/1200px-Sunflower_sky_backdrop.jpg\n",
            "\n",
            "[!] Issue getting: https://upload.wikimedia.org/wikipedia/commons/thumb/4/40/Sunflower_sky_backdrop.jpg/1200px-Sunflower_sky_backdrop.jpg\n",
            "[!] Error:: Invalid image, not saving https://upload.wikimedia.org/wikipedia/commons/thumb/4/40/Sunflower_sky_backdrop.jpg/1200px-Sunflower_sky_backdrop.jpg\n",
            "\n",
            "[%] Downloading Image #1 from https://www.myweekly.co.uk/wp-content/uploads/sites/9/2019/04/iStock-912760592-sunflower-x-1024x683.jpg\n",
            "[%] File Downloaded !\n",
            "\n",
            "\n",
            "\n",
            "[%] Done. Downloaded 1 images.\n",
            "===============================================\n",
            "\n",
            "Please show your support here\n",
            "https://www.buymeacoffee.com/gurugaurav\n",
            "\n",
            "===============================================\n",
            "\n",
            "time: 1.5 s (started: 2021-07-07 19:18:51 +00:00)\n"
          ],
          "name": "stdout"
        }
      ]
    },
    {
      "cell_type": "code",
      "metadata": {
        "id": "26f8S_5daSfa",
        "colab": {
          "base_uri": "https://localhost:8080/"
        },
        "outputId": "41aaf3e4-0f76-4686-c5e9-ab0032c4d1db"
      },
      "source": [
        "from bing_image_downloader import downloader\n",
        "downloader.download(\"roses\",limit=1,output_dir='testimages',\n",
        "                    adult_filter_off=True)"
      ],
      "execution_count": null,
      "outputs": [
        {
          "output_type": "stream",
          "text": [
            "[%] Downloading Images to /content/testimages/roses\n",
            "\n",
            "\n",
            "[!!]Indexing page: 1\n",
            "\n",
            "[%] Indexed 1 Images on Page 1.\n",
            "\n",
            "===============================================\n",
            "\n",
            "[%] Downloading Image #1 from https://altmanplants.com/wp-content/uploads/True-Gratitude-1.jpg\n",
            "[%] File Downloaded !\n",
            "\n",
            "\n",
            "\n",
            "[%] Done. Downloaded 1 images.\n",
            "===============================================\n",
            "\n",
            "Please show your support here\n",
            "https://www.buymeacoffee.com/gurugaurav\n",
            "\n",
            "===============================================\n",
            "\n",
            "time: 2.73 s (started: 2021-07-07 19:19:41 +00:00)\n"
          ],
          "name": "stdout"
        }
      ]
    },
    {
      "cell_type": "code",
      "metadata": {
        "id": "S5-ROORmaXXz",
        "colab": {
          "base_uri": "https://localhost:8080/"
        },
        "outputId": "fe7bf0e4-6159-4962-d236-da30fcbb2ae9"
      },
      "source": [
        "from bing_image_downloader import downloader\n",
        "downloader.download(\"tulips\",limit=1,output_dir='testimages',\n",
        "                    adult_filter_off=True)"
      ],
      "execution_count": null,
      "outputs": [
        {
          "output_type": "stream",
          "text": [
            "[%] Downloading Images to /content/testimages/tulips\n",
            "\n",
            "\n",
            "[!!]Indexing page: 1\n",
            "\n",
            "[%] Indexed 1 Images on Page 1.\n",
            "\n",
            "===============================================\n",
            "\n",
            "[%] Downloading Image #1 from https://i.pinimg.com/originals/fd/2e/43/fd2e43982baa939ece2ee81563d4ccc2.jpg\n",
            "[%] File Downloaded !\n",
            "\n",
            "\n",
            "\n",
            "[%] Done. Downloaded 1 images.\n",
            "===============================================\n",
            "\n",
            "Please show your support here\n",
            "https://www.buymeacoffee.com/gurugaurav\n",
            "\n",
            "===============================================\n",
            "\n",
            "time: 386 ms (started: 2021-07-07 19:19:58 +00:00)\n"
          ],
          "name": "stdout"
        }
      ]
    },
    {
      "cell_type": "code",
      "metadata": {
        "colab": {
          "base_uri": "https://localhost:8080/",
          "height": 320
        },
        "id": "Ub69hl0hs23n",
        "outputId": "7ab47960-3aea-43b5-993c-6195d1eba874"
      },
      "source": [
        "#Testing a brand new Image \n",
        "flat_data= []\n",
        "import cv2\n",
        "image_path = '/content/testimages/roses/Image_1.jpg'\n",
        "filename = 'saved_new.jpg'\n",
        "img = cv2.imread(image_path)\n",
        "img_resized= resize(img,(150,150,3))\n",
        "flat_data.append(img_resized.flatten())\n",
        "flat_data=np.array(flat_data)\n",
        "print(img.shape)\n",
        "plt.imshow(img_resized)\n",
        "y_out=model.predict(flat_data)\n",
        "y_out=CATEGORIES[y_out[0]]\n",
        "print(f'PREDICTED OUTPUT:{y_out}')"
      ],
      "execution_count": null,
      "outputs": [
        {
          "output_type": "stream",
          "text": [
            "(857, 1280, 3)\n",
            "PREDICTED OUTPUT:roses\n"
          ],
          "name": "stdout"
        },
        {
          "output_type": "display_data",
          "data": {
            "image/png": "[encoded data removed]",
            "text/plain": [
              "<Figure size 432x288 with 1 Axes>"
            ]
          },
          "metadata": {
            "tags": [],
            "needs_background": "light"
          }
        },
        {
          "output_type": "stream",
          "text": [
            "time: 1.1 s (started: 2021-07-07 19:23:12 +00:00)\n"
          ],
          "name": "stdout"
        }
      ]
    },
    {
      "cell_type": "code",
      "metadata": {
        "colab": {
          "base_uri": "https://localhost:8080/",
          "height": 1000
        },
        "id": "tdzl9TLi1kEa",
        "outputId": "9378b384-233e-4cd2-c238-03bce2074dc1"
      },
      "source": [
        "!pip install streamlit\n",
        "\n",
        "!pip install pyngrok\n",
        "from pyngrok import ngrok"
      ],
      "execution_count": null,
      "outputs": [
        {
          "output_type": "stream",
          "text": [
            "Collecting streamlit\n",
            "\u001b[?25l  Downloading https://files.pythonhosted.org/packages/d7/0c/469ee9160ad7bc064eb498fa95aefd4e96b593ce0d53fb07ff217badff47/streamlit-0.83.0-py2.py3-none-any.whl (7.7MB)\n",
            "\u001b[K     |████████████████████████████████| 7.8MB 5.0MB/s \n",
            "\u001b[?25hRequirement already satisfied: pillow>=6.2.0 in /usr/local/lib/python3.7/dist-packages (from streamlit) (7.1.2)\n",
            "Collecting gitpython\n",
            "\u001b[?25l  Downloading https://files.pythonhosted.org/packages/bc/91/b38c4fabb6e5092ab23492ded4f318ab7299b19263272b703478038c0fbc/GitPython-3.1.18-py3-none-any.whl (170kB)\n",
            "\u001b[K     |████████████████████████████████| 174kB 52.9MB/s \n",
            "\u001b[?25hRequirement already satisfied: click<8.0,>=7.0 in /usr/local/lib/python3.7/dist-packages (from streamlit) (7.1.2)\n",
            "Requirement already satisfied: requests in /usr/local/lib/python3.7/dist-packages (from streamlit) (2.23.0)\n",
            "Requirement already satisfied: toml in /usr/local/lib/python3.7/dist-packages (from streamlit) (0.10.2)\n",
            "Collecting blinker\n",
            "\u001b[?25l  Downloading https://files.pythonhosted.org/packages/1b/51/e2a9f3b757eb802f61dc1f2b09c8c99f6eb01cf06416c0671253536517b6/blinker-1.4.tar.gz (111kB)\n",
            "\u001b[K     |████████████████████████████████| 112kB 45.6MB/s \n",
            "\u001b[?25hCollecting watchdog; platform_system != \"Darwin\"\n",
            "\u001b[?25l  Downloading https://files.pythonhosted.org/packages/6b/d1/b0a1e69af06d2f6f47a11238ca115667d858cbb30baf6b6df03f1b874163/watchdog-2.1.3-py3-none-manylinux2014_x86_64.whl (75kB)\n",
            "\u001b[K     |████████████████████████████████| 81kB 8.5MB/s \n",
            "\u001b[?25hRequirement already satisfied: astor in /usr/local/lib/python3.7/dist-packages (from streamlit) (0.8.1)\n",
            "Requirement already satisfied: tzlocal in /usr/local/lib/python3.7/dist-packages (from streamlit) (1.5.1)\n",
            "Requirement already satisfied: python-dateutil in /usr/local/lib/python3.7/dist-packages (from streamlit) (2.8.1)\n",
            "Collecting validators\n",
            "  Downloading https://files.pythonhosted.org/packages/db/2f/7fed3ee94ad665ad2c1de87f858f10a7785251ff75b4fd47987888d07ef1/validators-0.18.2-py3-none-any.whl\n",
            "Requirement already satisfied: tornado>=5.0 in /usr/local/lib/python3.7/dist-packages (from streamlit) (5.1.1)\n",
            "Collecting base58\n",
            "  Downloading https://files.pythonhosted.org/packages/b8/a1/d9f565e9910c09fd325dc638765e8843a19fa696275c16cc08cf3b0a3c25/base58-2.1.0-py3-none-any.whl\n",
            "Requirement already satisfied: pyarrow; python_version < \"3.9\" in /usr/local/lib/python3.7/dist-packages (from streamlit) (3.0.0)\n",
            "Requirement already satisfied: pandas>=0.21.0 in /usr/local/lib/python3.7/dist-packages (from streamlit) (1.1.5)\n",
            "Requirement already satisfied: numpy in /usr/local/lib/python3.7/dist-packages (from streamlit) (1.19.5)\n",
            "Requirement already satisfied: cachetools>=4.0 in /usr/local/lib/python3.7/dist-packages (from streamlit) (4.2.2)\n",
            "Requirement already satisfied: altair>=3.2.0 in /usr/local/lib/python3.7/dist-packages (from streamlit) (4.1.0)\n",
            "Requirement already satisfied: protobuf!=3.11,>=3.6.0 in /usr/local/lib/python3.7/dist-packages (from streamlit) (3.12.4)\n",
            "Collecting pydeck>=0.1.dev5\n",
            "\u001b[?25l  Downloading https://files.pythonhosted.org/packages/d6/bc/f0e44828e4290367c869591d50d3671a4d0ee94926da6cb734b7b200308c/pydeck-0.6.2-py2.py3-none-any.whl (4.2MB)\n",
            "\u001b[K     |████████████████████████████████| 4.2MB 31.5MB/s \n",
            "\u001b[?25hRequirement already satisfied: packaging in /usr/local/lib/python3.7/dist-packages (from streamlit) (20.9)\n",
            "Requirement already satisfied: typing-extensions>=3.7.4.0; python_version < \"3.8\" in /usr/local/lib/python3.7/dist-packages (from gitpython->streamlit) (3.7.4.3)\n",
            "Collecting gitdb<5,>=4.0.1\n",
            "\u001b[?25l  Downloading https://files.pythonhosted.org/packages/ea/e8/f414d1a4f0bbc668ed441f74f44c116d9816833a48bf81d22b697090dba8/gitdb-4.0.7-py3-none-any.whl (63kB)\n",
            "\u001b[K     |████████████████████████████████| 71kB 8.1MB/s \n",
            "\u001b[?25hRequirement already satisfied: certifi>=2017.4.17 in /usr/local/lib/python3.7/dist-packages (from requests->streamlit) (2021.5.30)\n",
            "Requirement already satisfied: chardet<4,>=3.0.2 in /usr/local/lib/python3.7/dist-packages (from requests->streamlit) (3.0.4)\n",
            "Requirement already satisfied: idna<3,>=2.5 in /usr/local/lib/python3.7/dist-packages (from requests->streamlit) (2.10)\n",
            "Requirement already satisfied: urllib3!=1.25.0,!=1.25.1,<1.26,>=1.21.1 in /usr/local/lib/python3.7/dist-packages (from requests->streamlit) (1.24.3)\n",
            "Requirement already satisfied: pytz in /usr/local/lib/python3.7/dist-packages (from tzlocal->streamlit) (2018.9)\n",
            "Requirement already satisfied: six>=1.5 in /usr/local/lib/python3.7/dist-packages (from python-dateutil->streamlit) (1.15.0)\n",
            "Requirement already satisfied: decorator>=3.4.0 in /usr/local/lib/python3.7/dist-packages (from validators->streamlit) (4.4.2)\n",
            "Requirement already satisfied: jinja2 in /usr/local/lib/python3.7/dist-packages (from altair>=3.2.0->streamlit) (2.11.3)\n",
            "Requirement already satisfied: toolz in /usr/local/lib/python3.7/dist-packages (from altair>=3.2.0->streamlit) (0.11.1)\n",
            "Requirement already satisfied: entrypoints in /usr/local/lib/python3.7/dist-packages (from altair>=3.2.0->streamlit) (0.3)\n",
            "Requirement already satisfied: jsonschema in /usr/local/lib/python3.7/dist-packages (from altair>=3.2.0->streamlit) (2.6.0)\n",
            "Requirement already satisfied: setuptools in /usr/local/lib/python3.7/dist-packages (from protobuf!=3.11,>=3.6.0->streamlit) (57.0.0)\n",
            "Requirement already satisfied: traitlets>=4.3.2 in /usr/local/lib/python3.7/dist-packages (from pydeck>=0.1.dev5->streamlit) (5.0.5)\n",
            "Collecting ipykernel>=5.1.2; python_version >= \"3.4\"\n",
            "\u001b[?25l  Downloading https://files.pythonhosted.org/packages/90/6d/6c8fe4b658f77947d4244ce81f60230c4c8d1dc1a21ae83e63b269339178/ipykernel-5.5.5-py3-none-any.whl (120kB)\n",
            "\u001b[K     |████████████████████████████████| 122kB 46.7MB/s \n",
            "\u001b[?25hRequirement already satisfied: ipywidgets>=7.0.0 in /usr/local/lib/python3.7/dist-packages (from pydeck>=0.1.dev5->streamlit) (7.6.3)\n",
            "Requirement already satisfied: pyparsing>=2.0.2 in /usr/local/lib/python3.7/dist-packages (from packaging->streamlit) (2.4.7)\n",
            "Collecting smmap<5,>=3.0.1\n",
            "  Downloading https://files.pythonhosted.org/packages/68/ee/d540eb5e5996eb81c26ceffac6ee49041d473bc5125f2aa995cf51ec1cf1/smmap-4.0.0-py2.py3-none-any.whl\n",
            "Requirement already satisfied: MarkupSafe>=0.23 in /usr/local/lib/python3.7/dist-packages (from jinja2->altair>=3.2.0->streamlit) (2.0.1)\n",
            "Requirement already satisfied: ipython-genutils in /usr/local/lib/python3.7/dist-packages (from traitlets>=4.3.2->pydeck>=0.1.dev5->streamlit) (0.2.0)\n",
            "Requirement already satisfied: jupyter-client in /usr/local/lib/python3.7/dist-packages (from ipykernel>=5.1.2; python_version >= \"3.4\"->pydeck>=0.1.dev5->streamlit) (5.3.5)\n",
            "Requirement already satisfied: ipython>=5.0.0 in /usr/local/lib/python3.7/dist-packages (from ipykernel>=5.1.2; python_version >= \"3.4\"->pydeck>=0.1.dev5->streamlit) (5.5.0)\n",
            "Requirement already satisfied: nbformat>=4.2.0 in /usr/local/lib/python3.7/dist-packages (from ipywidgets>=7.0.0->pydeck>=0.1.dev5->streamlit) (5.1.3)\n",
            "Requirement already satisfied: jupyterlab-widgets>=1.0.0; python_version >= \"3.6\" in /usr/local/lib/python3.7/dist-packages (from ipywidgets>=7.0.0->pydeck>=0.1.dev5->streamlit) (1.0.0)\n",
            "Requirement already satisfied: widgetsnbextension~=3.5.0 in /usr/local/lib/python3.7/dist-packages (from ipywidgets>=7.0.0->pydeck>=0.1.dev5->streamlit) (3.5.1)\n",
            "Requirement already satisfied: jupyter-core>=4.6.0 in /usr/local/lib/python3.7/dist-packages (from jupyter-client->ipykernel>=5.1.2; python_version >= \"3.4\"->pydeck>=0.1.dev5->streamlit) (4.7.1)\n",
            "Requirement already satisfied: pyzmq>=13 in /usr/local/lib/python3.7/dist-packages (from jupyter-client->ipykernel>=5.1.2; python_version >= \"3.4\"->pydeck>=0.1.dev5->streamlit) (22.1.0)\n",
            "Requirement already satisfied: prompt-toolkit<2.0.0,>=1.0.4 in /usr/local/lib/python3.7/dist-packages (from ipython>=5.0.0->ipykernel>=5.1.2; python_version >= \"3.4\"->pydeck>=0.1.dev5->streamlit) (1.0.18)\n",
            "Requirement already satisfied: simplegeneric>0.8 in /usr/local/lib/python3.7/dist-packages (from ipython>=5.0.0->ipykernel>=5.1.2; python_version >= \"3.4\"->pydeck>=0.1.dev5->streamlit) (0.8.1)\n",
            "Requirement already satisfied: pickleshare in /usr/local/lib/python3.7/dist-packages (from ipython>=5.0.0->ipykernel>=5.1.2; python_version >= \"3.4\"->pydeck>=0.1.dev5->streamlit) (0.7.5)\n",
            "Requirement already satisfied: pygments in /usr/local/lib/python3.7/dist-packages (from ipython>=5.0.0->ipykernel>=5.1.2; python_version >= \"3.4\"->pydeck>=0.1.dev5->streamlit) (2.6.1)\n",
            "Requirement already satisfied: pexpect; sys_platform != \"win32\" in /usr/local/lib/python3.7/dist-packages (from ipython>=5.0.0->ipykernel>=5.1.2; python_version >= \"3.4\"->pydeck>=0.1.dev5->streamlit) (4.8.0)\n",
            "Requirement already satisfied: notebook>=4.4.1 in /usr/local/lib/python3.7/dist-packages (from widgetsnbextension~=3.5.0->ipywidgets>=7.0.0->pydeck>=0.1.dev5->streamlit) (5.3.1)\n",
            "Requirement already satisfied: wcwidth in /usr/local/lib/python3.7/dist-packages (from prompt-toolkit<2.0.0,>=1.0.4->ipython>=5.0.0->ipykernel>=5.1.2; python_version >= \"3.4\"->pydeck>=0.1.dev5->streamlit) (0.2.5)\n",
            "Requirement already satisfied: ptyprocess>=0.5 in /usr/local/lib/python3.7/dist-packages (from pexpect; sys_platform != \"win32\"->ipython>=5.0.0->ipykernel>=5.1.2; python_version >= \"3.4\"->pydeck>=0.1.dev5->streamlit) (0.7.0)\n",
            "Requirement already satisfied: terminado>=0.8.1 in /usr/local/lib/python3.7/dist-packages (from notebook>=4.4.1->widgetsnbextension~=3.5.0->ipywidgets>=7.0.0->pydeck>=0.1.dev5->streamlit) (0.10.1)\n",
            "Requirement already satisfied: Send2Trash in /usr/local/lib/python3.7/dist-packages (from notebook>=4.4.1->widgetsnbextension~=3.5.0->ipywidgets>=7.0.0->pydeck>=0.1.dev5->streamlit) (1.5.0)\n",
            "Requirement already satisfied: nbconvert in /usr/local/lib/python3.7/dist-packages (from notebook>=4.4.1->widgetsnbextension~=3.5.0->ipywidgets>=7.0.0->pydeck>=0.1.dev5->streamlit) (5.6.1)\n",
            "Requirement already satisfied: defusedxml in /usr/local/lib/python3.7/dist-packages (from nbconvert->notebook>=4.4.1->widgetsnbextension~=3.5.0->ipywidgets>=7.0.0->pydeck>=0.1.dev5->streamlit) (0.7.1)\n",
            "Requirement already satisfied: pandocfilters>=1.4.1 in /usr/local/lib/python3.7/dist-packages (from nbconvert->notebook>=4.4.1->widgetsnbextension~=3.5.0->ipywidgets>=7.0.0->pydeck>=0.1.dev5->streamlit) (1.4.3)\n",
            "Requirement already satisfied: mistune<2,>=0.8.1 in /usr/local/lib/python3.7/dist-packages (from nbconvert->notebook>=4.4.1->widgetsnbextension~=3.5.0->ipywidgets>=7.0.0->pydeck>=0.1.dev5->streamlit) (0.8.4)\n",
            "Requirement already satisfied: bleach in /usr/local/lib/python3.7/dist-packages (from nbconvert->notebook>=4.4.1->widgetsnbextension~=3.5.0->ipywidgets>=7.0.0->pydeck>=0.1.dev5->streamlit) (3.3.0)\n",
            "Requirement already satisfied: testpath in /usr/local/lib/python3.7/dist-packages (from nbconvert->notebook>=4.4.1->widgetsnbextension~=3.5.0->ipywidgets>=7.0.0->pydeck>=0.1.dev5->streamlit) (0.5.0)\n",
            "Requirement already satisfied: webencodings in /usr/local/lib/python3.7/dist-packages (from bleach->nbconvert->notebook>=4.4.1->widgetsnbextension~=3.5.0->ipywidgets>=7.0.0->pydeck>=0.1.dev5->streamlit) (0.5.1)\n",
            "Building wheels for collected packages: blinker\n",
            "  Building wheel for blinker (setup.py) ... \u001b[?25l\u001b[?25hdone\n",
            "  Created wheel for blinker: filename=blinker-1.4-cp37-none-any.whl size=13476 sha256=00c63be853a3b416ce671f7e0187ea5d5a0c63ed59e670fd3c7d4aef68414dff\n",
            "  Stored in directory: /root/.cache/pip/wheels/92/a0/00/8690a57883956a301d91cf4ec999cc0b258b01e3f548f86e89\n",
            "Successfully built blinker\n",
            "\u001b[31mERROR: google-colab 1.0.0 has requirement ipykernel~=4.10, but you'll have ipykernel 5.5.5 which is incompatible.\u001b[0m\n",
            "Installing collected packages: smmap, gitdb, gitpython, blinker, watchdog, validators, base58, ipykernel, pydeck, streamlit\n",
            "  Found existing installation: ipykernel 4.10.1\n",
            "    Uninstalling ipykernel-4.10.1:\n",
            "      Successfully uninstalled ipykernel-4.10.1\n",
            "Successfully installed base58-2.1.0 blinker-1.4 gitdb-4.0.7 gitpython-3.1.18 ipykernel-5.5.5 pydeck-0.6.2 smmap-4.0.0 streamlit-0.83.0 validators-0.18.2 watchdog-2.1.3\n"
          ],
          "name": "stdout"
        },
        {
          "output_type": "display_data",
          "data": {
            "application/vnd.colab-display-data+json": {
              "pip_warning": {
                "packages": [
                  "ipykernel"
                ]
              }
            }
          },
          "metadata": {
            "tags": []
          }
        },
        {
          "output_type": "stream",
          "text": [
            "Collecting pyngrok\n",
            "\u001b[?25l  Downloading https://files.pythonhosted.org/packages/6b/4e/a2fe095bbe17cf26424c4abcd22a0490e22d01cc628f25af5e220ddbf6f0/pyngrok-5.0.5.tar.gz (745kB)\n",
            "\r\u001b[K     |▍                               | 10kB 14.7MB/s eta 0:00:01\r\u001b[K     |▉                               | 20kB 21.1MB/s eta 0:00:01\r\u001b[K     |█▎                              | 30kB 12.0MB/s eta 0:00:01\r\u001b[K     |█▊                              | 40kB 9.0MB/s eta 0:00:01\r\u001b[K     |██▏                             | 51kB 5.1MB/s eta 0:00:01\r\u001b[K     |██▋                             | 61kB 5.0MB/s eta 0:00:01\r\u001b[K     |███                             | 71kB 5.7MB/s eta 0:00:01\r\u001b[K     |███▌                            | 81kB 6.2MB/s eta 0:00:01\r\u001b[K     |████                            | 92kB 6.2MB/s eta 0:00:01\r\u001b[K     |████▍                           | 102kB 5.1MB/s eta 0:00:01\r\u001b[K     |████▉                           | 112kB 5.1MB/s eta 0:00:01\r\u001b[K     |█████▎                          | 122kB 5.1MB/s eta 0:00:01\r\u001b[K     |█████▊                          | 133kB 5.1MB/s eta 0:00:01\r\u001b[K     |██████▏                         | 143kB 5.1MB/s eta 0:00:01\r\u001b[K     |██████▋                         | 153kB 5.1MB/s eta 0:00:01\r\u001b[K     |███████                         | 163kB 5.1MB/s eta 0:00:01\r\u001b[K     |███████▌                        | 174kB 5.1MB/s eta 0:00:01\r\u001b[K     |████████                        | 184kB 5.1MB/s eta 0:00:01\r\u001b[K     |████████▍                       | 194kB 5.1MB/s eta 0:00:01\r\u001b[K     |████████▉                       | 204kB 5.1MB/s eta 0:00:01\r\u001b[K     |█████████▎                      | 215kB 5.1MB/s eta 0:00:01\r\u001b[K     |█████████▊                      | 225kB 5.1MB/s eta 0:00:01\r\u001b[K     |██████████▏                     | 235kB 5.1MB/s eta 0:00:01\r\u001b[K     |██████████▌                     | 245kB 5.1MB/s eta 0:00:01\r\u001b[K     |███████████                     | 256kB 5.1MB/s eta 0:00:01\r\u001b[K     |███████████▍                    | 266kB 5.1MB/s eta 0:00:01\r\u001b[K     |███████████▉                    | 276kB 5.1MB/s eta 0:00:01\r\u001b[K     |████████████▎                   | 286kB 5.1MB/s eta 0:00:01\r\u001b[K     |████████████▊                   | 296kB 5.1MB/s eta 0:00:01\r\u001b[K     |█████████████▏                  | 307kB 5.1MB/s eta 0:00:01\r\u001b[K     |█████████████▋                  | 317kB 5.1MB/s eta 0:00:01\r\u001b[K     |██████████████                  | 327kB 5.1MB/s eta 0:00:01\r\u001b[K     |██████████████▌                 | 337kB 5.1MB/s eta 0:00:01\r\u001b[K     |███████████████                 | 348kB 5.1MB/s eta 0:00:01\r\u001b[K     |███████████████▍                | 358kB 5.1MB/s eta 0:00:01\r\u001b[K     |███████████████▉                | 368kB 5.1MB/s eta 0:00:01\r\u001b[K     |████████████████▎               | 378kB 5.1MB/s eta 0:00:01\r\u001b[K     |████████████████▊               | 389kB 5.1MB/s eta 0:00:01\r\u001b[K     |█████████████████▏              | 399kB 5.1MB/s eta 0:00:01\r\u001b[K     |█████████████████▋              | 409kB 5.1MB/s eta 0:00:01\r\u001b[K     |██████████████████              | 419kB 5.1MB/s eta 0:00:01\r\u001b[K     |██████████████████▌             | 430kB 5.1MB/s eta 0:00:01\r\u001b[K     |███████████████████             | 440kB 5.1MB/s eta 0:00:01\r\u001b[K     |███████████████████▍            | 450kB 5.1MB/s eta 0:00:01\r\u001b[K     |███████████████████▉            | 460kB 5.1MB/s eta 0:00:01\r\u001b[K     |████████████████████▎           | 471kB 5.1MB/s eta 0:00:01\r\u001b[K     |████████████████████▊           | 481kB 5.1MB/s eta 0:00:01\r\u001b[K     |█████████████████████           | 491kB 5.1MB/s eta 0:00:01\r\u001b[K     |█████████████████████▌          | 501kB 5.1MB/s eta 0:00:01\r\u001b[K     |██████████████████████          | 512kB 5.1MB/s eta 0:00:01\r\u001b[K     |██████████████████████▍         | 522kB 5.1MB/s eta 0:00:01\r\u001b[K     |██████████████████████▉         | 532kB 5.1MB/s eta 0:00:01\r\u001b[K     |███████████████████████▎        | 542kB 5.1MB/s eta 0:00:01\r\u001b[K     |███████████████████████▊        | 552kB 5.1MB/s eta 0:00:01\r\u001b[K     |████████████████████████▏       | 563kB 5.1MB/s eta 0:00:01\r\u001b[K     |████████████████████████▋       | 573kB 5.1MB/s eta 0:00:01\r\u001b[K     |█████████████████████████       | 583kB 5.1MB/s eta 0:00:01\r\u001b[K     |█████████████████████████▌      | 593kB 5.1MB/s eta 0:00:01\r\u001b[K     |██████████████████████████      | 604kB 5.1MB/s eta 0:00:01\r\u001b[K     |██████████████████████████▍     | 614kB 5.1MB/s eta 0:00:01\r\u001b[K     |██████████████████████████▉     | 624kB 5.1MB/s eta 0:00:01\r\u001b[K     |███████████████████████████▎    | 634kB 5.1MB/s eta 0:00:01\r\u001b[K     |███████████████████████████▊    | 645kB 5.1MB/s eta 0:00:01\r\u001b[K     |████████████████████████████▏   | 655kB 5.1MB/s eta 0:00:01\r\u001b[K     |████████████████████████████▋   | 665kB 5.1MB/s eta 0:00:01\r\u001b[K     |█████████████████████████████   | 675kB 5.1MB/s eta 0:00:01\r\u001b[K     |█████████████████████████████▌  | 686kB 5.1MB/s eta 0:00:01\r\u001b[K     |██████████████████████████████  | 696kB 5.1MB/s eta 0:00:01\r\u001b[K     |██████████████████████████████▍ | 706kB 5.1MB/s eta 0:00:01\r\u001b[K     |██████████████████████████████▉ | 716kB 5.1MB/s eta 0:00:01\r\u001b[K     |███████████████████████████████▏| 727kB 5.1MB/s eta 0:00:01\r\u001b[K     |███████████████████████████████▋| 737kB 5.1MB/s eta 0:00:01\r\u001b[K     |████████████████████████████████| 747kB 5.1MB/s \n",
            "\u001b[?25hRequirement already satisfied: PyYAML in /usr/local/lib/python3.7/dist-packages (from pyngrok) (3.13)\n",
            "Building wheels for collected packages: pyngrok\n",
            "  Building wheel for pyngrok (setup.py) ... \u001b[?25l\u001b[?25hdone\n",
            "  Created wheel for pyngrok: filename=pyngrok-5.0.5-cp37-none-any.whl size=19262 sha256=2491c1ca777a2e40661d2ade32aa74c735bad3182c742e76598bee6ad5d0874c\n",
            "  Stored in directory: /root/.cache/pip/wheels/0c/13/64/5ebbcc22eaf53fdf5766b397c1fb17c83f5775fdccf0ea1b88\n",
            "Successfully built pyngrok\n",
            "Installing collected packages: pyngrok\n",
            "Successfully installed pyngrok-5.0.5\n",
            "time: 21.2 s (started: 2021-06-28 18:16:48 +00:00)\n"
          ],
          "name": "stdout"
        }
      ]
    }
  ]
}